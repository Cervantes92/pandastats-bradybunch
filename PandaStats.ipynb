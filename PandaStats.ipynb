{
 "cells": [
  {
   "cell_type": "markdown",
   "metadata": {},
   "source": [
    "<h1>Drill: Describing Data</h1>\n",
    "<h2>Question 1:</h2>\n",
    "<p>Greg was 14, Marcia was 12, Peter was 11, Jan was 10, Bobby was 8, and Cindy was 6 when they started playing the Brady kids on The Brady Bunch. Cousin Oliver was 8 years old when he joined the show. What are the mean, median, and mode of the kids' ages when they first appeared on the show? What are the variance, standard deviation, and standard error?</p>"
   ]
  },
  {
   "cell_type": "code",
   "execution_count": 85,
   "metadata": {
    "collapsed": false
   },
   "outputs": [
    {
     "name": "stdout",
     "output_type": "stream",
     "text": [
      "Mean age: 9.857142857142858\n",
      "Median age:  10.0\n",
      "Mode age: 8\n",
      "\n",
      "\n",
      "Variance:  7.476190476190475\n",
      "Standard Deviation:  2.734262327610589\n",
      "Standard Error:  1.0334540197243192\n"
     ]
    }
   ],
   "source": [
    "import pandas as pd\n",
    "import numpy as np\n",
    "import statistics as stats\n",
    "\n",
    "names = ['Greg', 'Marcia', 'Peter', 'Jan', 'Bobby', 'Cindy', 'Oliver']\n",
    "data = pd.DataFrame(index = names)\n",
    "\n",
    "\n",
    "data['age'] = [14, 12, 11, 10, 8, 6, 8]\n",
    "\n",
    "data.head(7) #Why don't you show me the chart?\n",
    "\n",
    "print('Mean age:', np.mean(data['age']))\n",
    "print('Median age: ', np.median(data['age']))\n",
    "print('Mode age:', stats.mode(data['age']))\n",
    "\n",
    "print('\\n')\n",
    "\n",
    "print('Variance: ', data['age'].var())\n",
    "print('Standard Deviation: ', np.std(data['age'], ddof = 1))\n",
    "print('Standard Error: ', np.std(data['age'], ddof = 1) / np.sqrt(len(data['age'])))"
   ]
  },
  {
   "cell_type": "markdown",
   "metadata": {},
   "source": [
    "<h2>Question 2:</h2>\n",
    "<p>Using these estimates, if you had to choose only one estimate of central tendency and one estimate of variance to describe the data, which would you pick and why?</p>\n",
    "\n",
    "<h3>Answer:</h3>\n",
    "<p>I think the answer to this largely depends on what the statistic is being used for. For example, if I wanted to predict the age of the next character the producers would add to the show, I would use the mean of their age and the standard error as an inverse measure of confidence.</p>"
   ]
  },
  {
   "cell_type": "markdown",
   "metadata": {},
   "source": [
    "<h2>Question 3:</h2>\n",
    "<p>Next, Cindy has a birthday. Update your estimates- what changed, and what didn't?</p>"
   ]
  },
  {
   "cell_type": "code",
   "execution_count": 86,
   "metadata": {
    "collapsed": false
   },
   "outputs": [
    {
     "name": "stdout",
     "output_type": "stream",
     "text": [
      "Mean age: 10.0\n",
      "Median age:  10.0\n",
      "Mode age: 8\n",
      "\n",
      "\n",
      "Variance:  6.333333333333333\n",
      "Standard Deviation:  2.516611478423583\n",
      "Standard Error:  0.9511897312113418\n"
     ]
    }
   ],
   "source": [
    "data.loc['Cindy'] += 1\n",
    "print('Mean age:', np.mean(data['age']))\n",
    "print('Median age: ', np.median(data['age']))\n",
    "print('Mode age:', stats.mode(data['age']))\n",
    "\n",
    "print('\\n')\n",
    "\n",
    "print('Variance: ', data['age'].var())\n",
    "print('Standard Deviation: ', np.std(data['age'], ddof = 1))\n",
    "print('Standard Error: ', np.std(data['age'], ddof = 1) / np.sqrt(len(data['age'])))"
   ]
  },
  {
   "cell_type": "markdown",
   "metadata": {},
   "source": [
    "<h3>Answer:</h3>\n",
    "<p>The only measure of central tendancy to change was the mean age of the actors. However, all measures of variance were reduced.</p>"
   ]
  },
  {
   "cell_type": "markdown",
   "metadata": {},
   "source": [
    "<h2>Question 4:</h2>\n",
    "<p>Nobody likes Cousin Oliver. Maybe the network should have used an even younger actor. Replace Cousin Oliver with 1-year-old Jessica, then recalculate again. Does this change your choice of central tendency or variance estimation methods?</p>"
   ]
  },
  {
   "cell_type": "code",
   "execution_count": 87,
   "metadata": {
    "collapsed": false
   },
   "outputs": [
    {
     "name": "stdout",
     "output_type": "stream",
     "text": [
      "Data is:           age\n",
      "Greg      14\n",
      "Marcia    12\n",
      "Peter     11\n",
      "Jan       10\n",
      "Bobby      8\n",
      "Cindy      7\n",
      "Oliver     8\n",
      "Jessica    1\n",
      "\n",
      "\n",
      "Mean age: 8.875\n",
      "Median age:  9.0\n",
      "Mode age: NA\n",
      "\n",
      "\n",
      "Variance:  15.553571428571429\n",
      "Standard Deviation:  3.943801646707328\n",
      "Standard Error:  1.394344444020712\n"
     ]
    }
   ],
   "source": [
    "data = data.drop(['Oliver']) #Correct me if I am wrong, but the .drop() method appears to return a copy of the datafram\n",
    "\n",
    "data.loc['Jessica'] = [1]\n",
    "\n",
    "print('Data is: ', data)\n",
    "\n",
    "print('\\n')\n",
    "\n",
    "print('Mean age:', np.mean(data['age']))\n",
    "print('Median age: ', np.median(data['age']))\n",
    "print('Mode age:', 'NA')\n",
    "\n",
    "print('\\n')\n",
    "\n",
    "print('Variance: ', data['age'].var())\n",
    "print('Standard Deviation: ', np.std(data['age'], ddof = 1))\n",
    "print('Standard Error: ', np.std(data['age'], ddof = 1) / np.sqrt(len(data['age'])))\n"
   ]
  },
  {
   "cell_type": "markdown",
   "metadata": {},
   "source": [
    "<h3>Answer:</h3>\n",
    "<p>This renders the 'Mode' measurement unusable as a method of measurement, and with such a small dataset of discrete values, frequencyt measurements are inherently less useful.</p>"
   ]
  },
  {
   "cell_type": "markdown",
   "metadata": {},
   "source": [
    "<h2>Question 5:</h2>\n",
    "<p>On the 50th anniversary of The Brady Bunch, four different magazines asked their readers whether they were fans of the show. The answers were: TV Guide 20% fans Entertainment Weekly 23% fans Pop Culture Today 17% fans SciPhi Phanatic 5% fans\n",
    "\n",
    "Based on these numbers, what percentage of adult Americans would you estimate were Brady Bunch fans on the 50th anniversary of the show?</p>"
   ]
  },
  {
   "cell_type": "code",
   "execution_count": 88,
   "metadata": {
    "collapsed": false
   },
   "outputs": [
    {
     "name": "stdout",
     "output_type": "stream",
     "text": [
      "Expected Value:  0.16250000000000003\n"
     ]
    }
   ],
   "source": [
    "magNames = ['TV Guide','Entertainment Weekly','Pop Culture Today','SciPhi Phanatic']\n",
    "mag_data = pd.DataFrame(index = magNames)\n",
    "mag_data['Percent_Fans'] = [0.20,0.23,0.17,0.05]\n",
    "\n",
    "mag_data.head()\n",
    "\n",
    "print('Expected Value: ', np.mean(mag_data['Percent_Fans']))\n"
   ]
  },
  {
   "cell_type": "markdown",
   "metadata": {},
   "source": [
    "<h3>Answer:</h3>\n",
    "<p>Assuming that the tests performed by the magazines used unbiased samples of their readership and magazine readers represent an unbiased sample of the adult American population, I would estimate that 16.25% of all American adults are fans of the Brady show.</p>"
   ]
  }
 ],
 "metadata": {
  "kernelspec": {
   "display_name": "Python 3",
   "language": "python",
   "name": "python3"
  },
  "language_info": {
   "codemirror_mode": {
    "name": "ipython",
    "version": 3
   },
   "file_extension": ".py",
   "mimetype": "text/x-python",
   "name": "python",
   "nbconvert_exporter": "python",
   "pygments_lexer": "ipython3",
   "version": "3.6.0"
  }
 },
 "nbformat": 4,
 "nbformat_minor": 2
}
